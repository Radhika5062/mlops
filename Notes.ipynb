{
 "cells": [
  {
   "cell_type": "code",
   "execution_count": null,
   "metadata": {},
   "outputs": [],
   "source": [
    "# 1. The first step is to generate all the files automatically. To do this, we will first create a file called template.py\n",
    "# and then define all the files in it. \n",
    "# Once you have created this template.py file then run it in terminal so that all the files and folders get created."
   ]
  }
 ],
 "metadata": {
  "language_info": {
   "name": "python"
  }
 },
 "nbformat": 4,
 "nbformat_minor": 2
}
